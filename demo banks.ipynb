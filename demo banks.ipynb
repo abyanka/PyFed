{
 "cells": [
  {
   "cell_type": "code",
   "execution_count": null,
   "metadata": {
    "colab": {
     "base_uri": "https://localhost:8080/",
     "height": 51
    },
    "colab_type": "code",
    "id": "1xcBv-S206pg",
    "outputId": "a5369070-021b-4fa2-d1f4-6791c8b9b658"
   },
   "outputs": [],
   "source": [
    "!pip install -r requirements.txt\n",
    "import PyFed.money_stock as ms\n",
    "import matplotlib.pyplot as plt\n",
    "import pandas as pd\n",
    "import numpy as np"
   ]
  },
  {
   "cell_type": "code",
   "execution_count": null,
   "metadata": {
    "colab": {},
    "colab_type": "code",
    "id": "fO9rtwCm1CFX"
   },
   "outputs": [],
   "source": [
    "H8 = ms.FRB_H8.H8() # initialize the data vendor and download data"
   ]
  },
  {
   "cell_type": "code",
   "execution_count": null,
   "metadata": {
    "colab": {},
    "colab_type": "code",
    "id": "rSK2f5i21HF7"
   },
   "outputs": [],
   "source": [
    "df = H8.book # extract the dataframe"
   ]
  },
  {
   "cell_type": "code",
   "execution_count": null,
   "metadata": {
    "colab": {
     "base_uri": "https://localhost:8080/",
     "height": 1000
    },
    "colab_type": "code",
    "id": "1oK71gWuSw6Z",
    "outputId": "6c78a263-e426-4407-e430-78d256bd5146"
   },
   "outputs": [],
   "source": [
    "H8.info() # print the structure of the dataset"
   ]
  },
  {
   "cell_type": "code",
   "execution_count": null,
   "metadata": {
    "colab": {},
    "colab_type": "code",
    "id": "e4uig_Wsjdzo"
   },
   "outputs": [],
   "source": [
    "def two_column_line_plot(df, col1, col2, start_date_1='2008', start_date_2='2008', sharey = False):\n",
    "    df.index.names\n",
    "  \n",
    "    fig, axes = plt.subplots(1,2, figsize=(15,6), sharey = sharey)\n",
    "    df[col1].unstack()[start_date_1:].apply(lambda x: x/1000).plot(color = ['r','b','gray'], ax=axes[0])\n",
    "    df[col2].unstack()[start_date_2:].apply(lambda x: x/1000).plot(color = ['r','b','gray'], ax=axes[1])\n",
    "\n",
    "    axes[0].set_ylabel('Billion Dollars')\n",
    "    axes[0].set_title(col1)\n",
    "    axes[1].set_ylabel('Billion Dollars')\n",
    "    axes[1].set_title(col2)\n",
    "\n",
    "    for ax in axes:\n",
    "        ax.spines['top'].set_visible(False)\n",
    "        ax.spines['right'].set_visible(False)\n",
    "        ax.get_xaxis().tick_bottom()\n",
    "        ax.get_yaxis().tick_left()\n",
    "        ax.spines['left'].set_position(('outward', 10))\n",
    "        ax.spines['bottom'].set_position(('outward', 10))"
   ]
  },
  {
   "cell_type": "code",
   "execution_count": null,
   "metadata": {
    "colab": {
     "base_uri": "https://localhost:8080/",
     "height": 360
    },
    "colab_type": "code",
    "id": "5jczb0xxg9z0",
    "outputId": "ca4db0c7-1da6-443e-8f8b-4ec5685b1dce"
   },
   "outputs": [],
   "source": [
    "two_column_line_plot(df,'Loans to nondepository financial institutions', 'Loans to commercial banks', \n",
    "                     start_date_1 = '2016', start_date_2 = '2016')"
   ]
  },
  {
   "cell_type": "code",
   "execution_count": null,
   "metadata": {
    "colab": {
     "base_uri": "https://localhost:8080/",
     "height": 360
    },
    "colab_type": "code",
    "id": "alO6R_5SkHAp",
    "outputId": "25ba1c65-6dea-408a-98cf-da530d886407"
   },
   "outputs": [],
   "source": [
    "two_column_line_plot(df,'Treasury and agency securities', 'Other securities', start_date_1 = '2016', start_date_2 = '2016')"
   ]
  },
  {
   "cell_type": "code",
   "execution_count": null,
   "metadata": {
    "colab": {
     "base_uri": "https://localhost:8080/",
     "height": 360
    },
    "colab_type": "code",
    "id": "VxclIl-gk9-B",
    "outputId": "566c119a-8c65-4030-e654-55036db8eaca"
   },
   "outputs": [],
   "source": [
    "two_column_line_plot(df,'Other deposits', 'Large time deposits', start_date_1 = '2016', start_date_2 = '2016')"
   ]
  },
  {
   "cell_type": "code",
   "execution_count": null,
   "metadata": {
    "colab": {
     "base_uri": "https://localhost:8080/",
     "height": 360
    },
    "colab_type": "code",
    "id": "yIr7WBTm4eM-",
    "outputId": "bc27edb2-c1ca-4c42-c47a-4fe039b0f20d"
   },
   "outputs": [],
   "source": [
    "two_column_line_plot(df,'Commercial and industrial loans', 'Real estate loans', start_date_1 = '2016', start_date_2 = '2016')"
   ]
  },
  {
   "cell_type": "code",
   "execution_count": null,
   "metadata": {
    "colab": {
     "base_uri": "https://localhost:8080/",
     "height": 360
    },
    "colab_type": "code",
    "id": "TEC88GN9op90",
    "outputId": "f2267a30-4d60-4ba8-a3af-623398e8a959"
   },
   "outputs": [],
   "source": [
    "two_column_line_plot(df,'Credit cards and other revolving plans', 'Other consumer loans', start_date_1 = '2016', start_date_2 = '2016')"
   ]
  },
  {
   "cell_type": "code",
   "execution_count": null,
   "metadata": {
    "colab": {},
    "colab_type": "code",
    "id": "lXz3iIWmVZBm"
   },
   "outputs": [],
   "source": []
  }
 ],
 "metadata": {
  "colab": {
   "authorship_tag": "ABX9TyMbpM5gFPP1NqKEXsM6LMZb",
   "include_colab_link": true,
   "name": "H8 demo.ipynb",
   "provenance": []
  },
  "kernelspec": {
   "display_name": "Python 3",
   "language": "python",
   "name": "python3"
  },
  "language_info": {
   "codemirror_mode": {
    "name": "ipython",
    "version": 3
   },
   "file_extension": ".py",
   "mimetype": "text/x-python",
   "name": "python",
   "nbconvert_exporter": "python",
   "pygments_lexer": "ipython3",
   "version": "3.6.10"
  },
  "toc": {
   "base_numbering": 1,
   "nav_menu": {},
   "number_sections": true,
   "sideBar": true,
   "skip_h1_title": false,
   "title_cell": "Table of Contents",
   "title_sidebar": "Contents",
   "toc_cell": false,
   "toc_position": {},
   "toc_section_display": true,
   "toc_window_display": false
  }
 },
 "nbformat": 4,
 "nbformat_minor": 1
}
